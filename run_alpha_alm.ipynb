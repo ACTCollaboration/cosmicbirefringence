{
 "cells": [
  {
   "cell_type": "code",
   "execution_count": null,
   "metadata": {},
   "outputs": [],
   "source": [
    "# transform alpha map to alm\n",
    "import numpy as np\n",
    "import healpy as hp\n",
    "import curvedsky\n",
    "import prjlib\n",
    "import pickle\n",
    "from pixell import enmap\n",
    "from matplotlib.pyplot import *"
   ]
  },
  {
   "cell_type": "code",
   "execution_count": null,
   "metadata": {},
   "outputs": [],
   "source": [
    "p, f, __ = prjlib.init()\n",
    "for i in range(p.snmin,p.snmax+1):\n",
    "    print(i,p.nside)\n",
    "    amap = enmap.to_healpix(enmap.read_map(f.amap[i]),nside=p.nside) \n",
    "    alm  = curvedsky.utils.hp_map2alm(p.nside,p.lmax,p.lmax,amap)\n",
    "    pickle.dump((alm),open(f.aalm[i],\"wb\"),protocol=pickle.HIGHEST_PROTOCOL)"
   ]
  }
 ],
 "metadata": {
  "kernelspec": {
   "display_name": "py4so",
   "language": "python",
   "name": "py4so"
  },
  "language_info": {
   "codemirror_mode": {
    "name": "ipython",
    "version": 3
   },
   "file_extension": ".py",
   "mimetype": "text/x-python",
   "name": "python",
   "nbconvert_exporter": "python",
   "pygments_lexer": "ipython3",
   "version": "3.7.2"
  }
 },
 "nbformat": 4,
 "nbformat_minor": 4
}
