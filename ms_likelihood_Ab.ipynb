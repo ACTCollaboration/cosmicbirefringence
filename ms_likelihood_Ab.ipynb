{
 "cells": [
  {
   "cell_type": "code",
   "execution_count": 1,
   "metadata": {},
   "outputs": [],
   "source": [
    "# calculate amplitude parameters\n",
    "import numpy as np, analysis as ana, basic, sys, prjlib\n",
    "from matplotlib.pyplot import *\n",
    "colors = ['r','g','b','c','y','m','k','navy']"
   ]
  },
  {
   "cell_type": "code",
   "execution_count": 2,
   "metadata": {},
   "outputs": [],
   "source": [
    "def bindep(As,sn,Lmin,Lsp,Lmax,spc,bn1,wi):\n",
    "\n",
    "    fig, ax = subplots(2)\n",
    "    \n",
    "    xlim(As[0],.3)\n",
    "    ylim(0,1)\n",
    "    ax[0].axhline(.95,color='k',ls='-.')\n",
    "    ax[0].grid(True)\n",
    "    ax[1].axhline(.95,color='k',ls='-.')\n",
    "    ax[1].grid(True)\n",
    "\n",
    "    for bi, bn in enumerate([10,20,30]):\n",
    "        mb, mb0, mb1 = prjlib.binning_all(bn,bn1=bn1,lmin=Lmin,Lsp=Lsp)\n",
    "        PDF, pDF = {}, {}\n",
    "        #for pi, (patch,rlmin) in enumerate([('deep56','200'),('boss','300')]):\n",
    "        for pi, (patch,rlmin) in enumerate([('deep56','200')]):\n",
    "            Ab, oA = prjlib.quadstats(patch,As,sn,mb0,mb1,wi=wi,rlmin=rlmin)\n",
    "            like0 = prjlib.calc_like_skewnorm(As,Ab,odat=oA)\n",
    "            #like1 = prjlib.calc_like_direct(As,Ab,odat=oA,ddat=0.015)\n",
    "            Ac, PDF[patch], CDF = prjlib.calc_CDF(like0,As)\n",
    "            PDF[patch] = PDF[patch]/np.max(PDF[patch])\n",
    "            #ac, pDF[patch], cDF = prjlib.calc_CDF(like1,As)\n",
    "\n",
    "            ax[pi].plot(Ac,CDF,colors[bi]+'-',label=str(bn))\n",
    "            ax[pi].plot(Ac,PDF[patch],colors[bi]+'--')\n",
    "            ax[pi].errorbar(As,like0/np.max(like0),fmt='o',color=colors[bi])\n",
    "\n",
    "        #PDF['join'] = PDF['deep56']*PDF['boss']\n",
    "        #CDF = np.cumsum(PDF['join'])/np.sum(PDF['join'])\n",
    "        #ax[0].plot(Ac,CDF,colors[bi]+'-',label=str(bn))\n",
    "        #ax[0].plot(Ac,PDF['join'],colors[bi]+'--')\n",
    "\n",
    "    legend(loc=0,frameon=False)"
   ]
  },
  {
   "cell_type": "code",
   "execution_count": 4,
   "metadata": {},
   "outputs": [
    {
     "name": "stderr",
     "output_type": "stream",
     "text": [
      "No handles with labels found to put in legend.\n",
      "No handles with labels found to put in legend.\n",
      "No handles with labels found to put in legend.\n"
     ]
    },
    {
     "data": {
      "text/plain": [
       "<Figure size 576x1296 with 0 Axes>"
      ]
     },
     "metadata": {},
     "output_type": "display_data"
    },
    {
     "data": {
      "text/plain": [
       "<Figure size 576x1296 with 0 Axes>"
      ]
     },
     "metadata": {},
     "output_type": "display_data"
    },
    {
     "data": {
      "text/plain": [
       "<Figure size 576x1296 with 0 Axes>"
      ]
     },
     "metadata": {},
     "output_type": "display_data"
    }
   ],
   "source": [
    "As = np.array([0.,0.01,0.02,0.03,0.04,0.05,0.06,0.07,0.08,0.09,0.1,0.11,0.12,0.13,0.14,0.3])\n",
    "for wi in ['lcmb','a0p05','a0p1']:\n",
    "#for wi in ['a0p05']:\n",
    "    #for Lmin in [10,15,20]:\n",
    "    for Lmin in [20]:\n",
    "        #for Lsp in [200,500,2048]:\n",
    "        for Lsp in [2048]:\n",
    "            if Lsp==2048:\n",
    "                bn1s = ['']\n",
    "            else:\n",
    "                bn1s = [10,20]\n",
    "            for bn1 in bn1s:\n",
    "                rcParams[\"figure.figsize\"] = (8,18)\n",
    "                bindep(As,100,Lmin,Lsp,2048,'p2',bn1,wi=wi)\n",
    "                savefig('cdfA_diag_'+wi+'_Lmin'+str(Lmin)+'_Lsp'+str(Lsp)+'_bn1'+str(bn1)+'.png')\n",
    "                clf()"
   ]
  },
  {
   "cell_type": "code",
   "execution_count": null,
   "metadata": {},
   "outputs": [],
   "source": []
  }
 ],
 "metadata": {
  "kernelspec": {
   "display_name": "py4so",
   "language": "python",
   "name": "py4so"
  },
  "language_info": {
   "codemirror_mode": {
    "name": "ipython",
    "version": 3
   },
   "file_extension": ".py",
   "mimetype": "text/x-python",
   "name": "python",
   "nbconvert_exporter": "python",
   "pygments_lexer": "ipython3",
   "version": "3.7.2"
  }
 },
 "nbformat": 4,
 "nbformat_minor": 4
}
