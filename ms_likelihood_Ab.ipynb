{
 "cells": [
  {
   "cell_type": "code",
   "execution_count": 1,
   "metadata": {},
   "outputs": [],
   "source": [
    "# calculate amplitude parameters\n",
    "import numpy as np\n",
    "import basic\n",
    "import analysis as ana\n",
    "import sys\n",
    "from matplotlib.pyplot import *\n",
    "import prjlib\n",
    "colors = ['r','g','b','c','y','m','k','navy']"
   ]
  },
  {
   "cell_type": "code",
   "execution_count": null,
   "metadata": {},
   "outputs": [],
   "source": [
    "def calc_like_skewnorm(Ainp,dat,odat=0.0):\n",
    "    from scipy import stats\n",
    "    like = np.zeros(len(Ainp))\n",
    "    for i, Ai in enumerate(Ainp):\n",
    "        mA, vA, sA = stats.skewnorm.fit(dat[i,:])\n",
    "        like[i] = stats.skewnorm.pdf(odat[i],mA,vA,sA)\n",
    "        #print(Ai,like[i])\n",
    "    return like"
   ]
  },
  {
   "cell_type": "code",
   "execution_count": null,
   "metadata": {},
   "outputs": [],
   "source": [
    "def fitfunc(z,p0,sigma): \n",
    "    return np.exp(-(z/sigma)**p0)"
   ]
  },
  {
   "cell_type": "code",
   "execution_count": null,
   "metadata": {},
   "outputs": [],
   "source": [
    "def bindep(As,sn,Lmin,Lsp,Lmax,spc,bn1,wi):\n",
    "\n",
    "    fig, ax = subplots(2)\n",
    "    \n",
    "    xlim(As[0],.3)\n",
    "    ylim(0,1)\n",
    "    ax[0].axhline(.95,color='k',ls='-.')\n",
    "    ax[0].grid(True)\n",
    "    ax[1].axhline(.95,color='k',ls='-.')\n",
    "    ax[1].grid(True)\n",
    "\n",
    "    bns = [10,20,30]\n",
    "    for bi, bn in enumerate(bns):\n",
    "        mb0 = prjlib.multipole_binning(bn,spc=spc,lmin=Lmin,lmax=Lsp)\n",
    "        mb1 = None\n",
    "        if Lsp<2048:\n",
    "            mb1 = prjlib.multipole_binning(bn1,spc='',lmin=Lsp+1,lmax=Lmax)\n",
    "        print(bn,mb0.bp[0],mb0.bp[1])\n",
    "        \n",
    "        PDF, pDF = {}, {}\n",
    "        #for pi, (patch,rlmin) in enumerate([('deep56','200'),('boss','300')]):\n",
    "        for pi, (patch,rlmin) in enumerate([('deep56','200')]):\n",
    "            Ab, oA = prjlib.quadstats(patch,As,sn,mb0,mb1,wi=wi,rlmin=rlmin)\n",
    "\n",
    "            like0 = calc_like_skewnorm(As,Ab,odat=oA)\n",
    "            #like1 = prjlib.calc_like(As,Ab,odat=oA,ddat=0.015)\n",
    "            Ac, PDF[patch], CDF = prjlib.calc_CDF(like0,As)\n",
    "            PDF[patch] = PDF[patch]/np.max(PDF[patch])\n",
    "            #ac, pDF[patch], cDF = prjlib.calc_CDF(like1,As)\n",
    "\n",
    "            ax[pi].plot(Ac,CDF,colors[bi]+'-',label=str(bn))\n",
    "            ax[pi].plot(Ac,PDF[patch],colors[bi]+'--')\n",
    "            ax[pi].errorbar(As,like0/np.max(like0),fmt='o',color=colors[bi])\n",
    "\n",
    "        #PDF['join'] = PDF['deep56']*PDF['boss']\n",
    "        #CDF = np.cumsum(PDF['join'])/np.sum(PDF['join'])\n",
    "        #ax[0].plot(Ac,CDF,colors[bi]+'-',label=str(bn))\n",
    "        #ax[0].plot(Ac,PDF['join'],colors[bi]+'--')\n",
    "\n",
    "    legend(loc=0,frameon=False)"
   ]
  },
  {
   "cell_type": "code",
   "execution_count": null,
   "metadata": {},
   "outputs": [],
   "source": [
    "As = np.array([0.,0.01,0.02,0.03,0.04,0.05,0.06,0.07,0.08,0.09,0.1,0.11,0.12,0.13,0.14,0.3])\n",
    "#patch = 'deep56'\n",
    "#patch = 'boss'\n",
    "for wi in ['lcmb','a0p05','a0p1']:\n",
    "#for wi in ['a0p05']:\n",
    "    for Lmin in [10,15,20]:\n",
    "    #for Lmin in [10]:\n",
    "        #for Lsp in [200,500,2048]:\n",
    "        for Lsp in [2048]:\n",
    "            if Lsp==2048:\n",
    "                bn1s = ['']\n",
    "            else:\n",
    "                bn1s = [10,20]\n",
    "            for bn1 in bn1s:\n",
    "                rcParams[\"figure.figsize\"] = (8,18)\n",
    "                bindep(As,100,Lmin,Lsp,2048,'p2',bn1,wi=wi)\n",
    "                #savefig('figs/cdfA_diag_'+wi+'_Lmin'+str(Lmin)+'_Lsp'+str(Lsp)+'_bn1'+str(bn1)+'.png')\n",
    "                clf()"
   ]
  },
  {
   "cell_type": "code",
   "execution_count": null,
   "metadata": {},
   "outputs": [],
   "source": []
  }
 ],
 "metadata": {
  "kernelspec": {
   "display_name": "py4so",
   "language": "python",
   "name": "py4so"
  },
  "language_info": {
   "codemirror_mode": {
    "name": "ipython",
    "version": 3
   },
   "file_extension": ".py",
   "mimetype": "text/x-python",
   "name": "python",
   "nbconvert_exporter": "python",
   "pygments_lexer": "ipython3",
   "version": "3.7.2"
  }
 },
 "nbformat": 4,
 "nbformat_minor": 4
}
