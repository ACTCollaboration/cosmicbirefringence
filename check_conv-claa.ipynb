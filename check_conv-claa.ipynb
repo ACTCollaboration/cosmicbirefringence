{
 "cells": [
  {
   "cell_type": "code",
   "execution_count": 1,
   "metadata": {},
   "outputs": [],
   "source": [
    "import numpy as np, prjlib, binning as bins, plottools as pl\n",
    "from matplotlib.pyplot import *"
   ]
  },
  {
   "cell_type": "code",
   "execution_count": 2,
   "metadata": {},
   "outputs": [],
   "source": [
    "p1, __ = prjlib.filename_init(doreal='True',dearot='True',stype='lcmb',ver='v1')\n",
    "p2, __ = prjlib.filename_init(doreal='True',dearot='True',stype='lcmb',ver='v2')\n",
    "mb = bins.multipole_binning(10,lmin=20,lmax=2048,spc='p2')\n",
    "oc1 = prjlib.binned_cl(p1.quad.f['EB'].cl[0],mb)\n",
    "oc2 = prjlib.binned_cl(p2.quad.f['EB'].cl[0],mb)\n",
    "sc1 = prjlib.binned_cl_rlz(p1.quad.f['EB'].cl,1,200,mb)\n",
    "sc2 = prjlib.binned_cl_rlz(p2.quad.f['EB'].cl,1,200,mb)\n",
    "mc1 = np.mean(sc1,axis=0)\n",
    "mc2 = np.mean(sc2,axis=0)\n",
    "vc1 = np.std(sc1,axis=0)\n",
    "vc2 = np.std(sc2,axis=0)"
   ]
  },
  {
   "cell_type": "code",
   "execution_count": 3,
   "metadata": {},
   "outputs": [
    {
     "data": {
      "text/plain": [
       "<matplotlib.legend.Legend at 0x2aaad71d3da0>"
      ]
     },
     "execution_count": 3,
     "metadata": {},
     "output_type": "execute_result"
    },
    {
     "data": {
      "image/png": "[encoded data removed]",
      "text/plain": [
       "<Figure size 432x288 with 1 Axes>"
      ]
     },
     "metadata": {
      "needs_background": "light"
     },
     "output_type": "display_data"
    }
   ],
   "source": [
    "pl.plot_1dstyle(ylab=r'Ratio',spc='p2',xmin=20,xmax=2048,ymin=-1.2,ymax=1.2)\n",
    "s = 1e4*(180/np.pi)**2\n",
    "errorbar(np.sqrt(mb.bc)+0.5,s*oc1,yerr=s*vc1,label='v1',fmt='o',color='b')\n",
    "errorbar(np.sqrt(mb.bc),s*oc2,yerr=s*vc2,label='v2',fmt='o',color='r')\n",
    "errorbar(np.sqrt(mb.bc)-0.5,s*(oc1-mc1),yerr=s*vc1,label='v1 (obs-sim)',color='b',fmt='s')\n",
    "errorbar(np.sqrt(mb.bc)+1,s*(oc2-mc2),yerr=s*vc2,label='v2 (obs-sim)',color='r',fmt='s')\n",
    "axhline(0,color='k',ls='--')\n",
    "legend(loc=0)"
   ]
  }
 ],
 "metadata": {
  "kernelspec": {
   "display_name": "py4so",
   "language": "python",
   "name": "py4so"
  },
  "language_info": {
   "codemirror_mode": {
    "name": "ipython",
    "version": 3
   },
   "file_extension": ".py",
   "mimetype": "text/x-python",
   "name": "python",
   "nbconvert_exporter": "python",
   "pygments_lexer": "ipython3",
   "version": "3.7.2"
  }
 },
 "nbformat": 4,
 "nbformat_minor": 4
}
