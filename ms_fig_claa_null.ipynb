{
 "cells": [
  {
   "cell_type": "code",
   "execution_count": 1,
   "metadata": {},
   "outputs": [],
   "source": [
    "import numpy as np, analysis as ana, plottools as pl, prjlib\n",
    "from matplotlib.pyplot import *"
   ]
  },
  {
   "cell_type": "code",
   "execution_count": 2,
   "metadata": {},
   "outputs": [],
   "source": [
    "mb, mb0, mb1 = prjlib.binning_all(10,lmin=20,Lsp=2048)\n",
    "p = prjlib.params_init(stype='lcmb',PSA='s14&15_deep56',doreal='True',dearot='True',rlmin='200')\n",
    "scb = prjlib.binned_cl_rlz(p.quad.f['EB'].cl,0,200,mb0,mb1)\n",
    "ocb = prjlib.binned_cl(p.quad.f['EB'].cl[0],mb0,mb1)\n",
    "fcb = prjlib.binned_claa(2048,mb0,mb1)"
   ]
  },
  {
   "cell_type": "code",
   "execution_count": 7,
   "metadata": {},
   "outputs": [
    {
     "name": "stdout",
     "output_type": "stream",
     "text": [
      "1.0 0.42 4.3 0.935\n"
     ]
    },
    {
     "data": {
      "image/png": "[encoded data removed]",
      "text/plain": [
       "<Figure size 432x288 with 2 Axes>"
      ]
     },
     "metadata": {
      "needs_background": "light"
     },
     "output_type": "display_data"
    }
   ],
   "source": [
    "st = ana.PTEs(ocb,scb)\n",
    "pl.plot_corr(scb,20,2048,clab='corr. coeff.')"
   ]
  },
  {
   "cell_type": "code",
   "execution_count": 4,
   "metadata": {},
   "outputs": [
    {
     "name": "stdout",
     "output_type": "stream",
     "text": [
      "0.9 0.425 3.1 0.94\n",
      "1.3 0.43 6.8 0.89\n",
      "1.3 0.435 6.9 0.945\n",
      "1.5 0.425 6.0 0.975\n",
      "1.6 0.425 12.4 0.87\n",
      "1.9 0.425 13.2 0.935\n",
      "0.7 0.445 4.8 0.925\n",
      "1.2 0.42 3.5 0.98\n",
      "1.0 0.42 4.3 0.935\n"
     ]
    }
   ],
   "source": [
    "for bn in [8,12,14,16,18,20]:\n",
    "    mb, mb0, mb1 = prjlib.binning_all(bn,lmin=20,Lsp=2048)\n",
    "    scb = prjlib.binned_cl_rlz(p.quad.f['EB'].cl,0,200,mb0,mb1)\n",
    "    ocb = prjlib.binned_cl(p.quad.f['EB'].ocls,mb0,mb1)\n",
    "    st = ana.PTEs(ocb,scb)\n",
    "\n",
    "for lmin in [10,30,40]:\n",
    "    mb, mb0, mb1 = prjlib.binning_all(10,lmin=lmin,Lsp=2048)\n",
    "    scb = prjlib.binned_cl_rlz(p.quad.f['EB'].cl,0,200,mb0,mb1)\n",
    "    ocb = prjlib.binned_cl(p.quad.f['EB'].ocls,mb0,mb1)\n",
    "    st = ana.PTEs(ocb,scb)\n"
   ]
  },
  {
   "cell_type": "code",
   "execution_count": 5,
   "metadata": {},
   "outputs": [
    {
     "name": "stdout",
     "output_type": "stream",
     "text": [
      "obs A 0.027 mean(A) 0.011 sigma(A) 0.043 S/N 23.07 A>oA 0.355\n"
     ]
    },
    {
     "data": {
      "text/plain": [
       "<matplotlib.lines.Line2D at 0x2aaadbe142b0>"
      ]
     },
     "execution_count": 5,
     "metadata": {},
     "output_type": "execute_result"
    },
    {
     "data": {
      "image/png": "[encoded data removed]",
      "text/plain": [
       "<Figure size 432x288 with 1 Axes>"
      ]
     },
     "metadata": {
      "needs_background": "light"
     },
     "output_type": "display_data"
    }
   ],
   "source": [
    "# amplitude estimate\n",
    "st = ana.amplitude(ocb,scb,fcb=fcb)\n",
    "xlabel(r'Power spectrum amplitude')\n",
    "ylabel(r'Probability distribution')\n",
    "hist(st.A,bins=15,density=1,weights=np.ones_like(st.A)/float(len(st.A)),alpha=.5,lw=0)\n",
    "figtext(0.60,0.80,r'$\\widehat{A}$ ='+str(st.oA)[:7])\n",
    "axvline(st.oA)\n",
    "#savefig('fig_null.png',bbox_inches='tight')"
   ]
  },
  {
   "cell_type": "code",
   "execution_count": null,
   "metadata": {},
   "outputs": [],
   "source": []
  }
 ],
 "metadata": {
  "kernelspec": {
   "display_name": "py4so",
   "language": "python",
   "name": "py4so"
  },
  "language_info": {
   "codemirror_mode": {
    "name": "ipython",
    "version": 3
   },
   "file_extension": ".py",
   "mimetype": "text/x-python",
   "name": "python",
   "nbconvert_exporter": "python",
   "pygments_lexer": "ipython3",
   "version": "3.7.2"
  }
 },
 "nbformat": 4,
 "nbformat_minor": 4
}
