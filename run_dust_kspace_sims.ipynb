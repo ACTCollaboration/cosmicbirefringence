{
 "cells": [
  {
   "cell_type": "code",
   "execution_count": 1,
   "metadata": {},
   "outputs": [],
   "source": [
    "import numpy as np, prjlib\n",
    "from pixell import enmap"
   ]
  },
  {
   "cell_type": "code",
   "execution_count": 6,
   "metadata": {},
   "outputs": [
    {
     "name": "stdout",
     "output_type": "stream",
     "text": [
      "0 1 2 3 4 5 6 7 8 9 10 11 12 13 14 15 16 17 18 19 20 21 22 23 24 25 26 27 28 29 30 31 32 33 34 35 36 37 38 39 40 41 42 43 44 45 46 47 48 49 50 51 52 53 54 55 56 57 58 59 60 61 62 63 64 65 66 67 68 69 70 71 72 73 74 75 76 77 78 79 80 81 82 83 84 85 86 87 88 89 90 91 92 93 94 95 96 97 98 99 100 0 1 2 3 4 5 6 7 8 9 10 11 12 13 14 15 16 17 18 19 20 21 22 23 24 25 26 27 28 29 30 31 32 33 34 35 36 37 38 39 40 41 42 43 44 45 46 47 48 49 50 51 52 53 54 55 56 57 58 59 60 61 62 63 64 65 66 67 68 69 70 71 72 73 74 75 76 77 78 79 80 81 82 83 84 85 86 87 88 89 90 91 92 93 94 95 96 97 98 99 100 "
     ]
    }
   ],
   "source": [
    "# generate standard+foreground sim\n",
    "ps, fs = prjlib.filename_init(doreal='False',stype='lcmb')\n",
    "pd, fd = prjlib.filename_init(doreal='False',stype='dust')\n",
    "for mtype in ['E','B']:\n",
    "    d_sim = '/global/cscratch1/sd/yguan/sims/v0.6/'\n",
    "    amap = enmap.read_map(d_sim+'teb_dust/preparedSimset00_Map00000_'+mtype+'_s14&15_deep56.fits')\n",
    "    bmap = enmap.read_map(d_sim+'teb_unrot/preparedSimset00_Map00000_'+mtype+'_s14&15_deep56.fits')\n",
    "    dust = amap - bmap\n",
    "    for i in range(101):\n",
    "        print(i, end=\" \")\n",
    "        tmap = dust + enmap.read_map(fs.imap[mtype][i])\n",
    "        enmap.write_map(fd.imap[mtype][i],tmap)"
   ]
  }
 ],
 "metadata": {
  "kernelspec": {
   "display_name": "py4so",
   "language": "python",
   "name": "py4so"
  },
  "language_info": {
   "codemirror_mode": {
    "name": "ipython",
    "version": 3
   },
   "file_extension": ".py",
   "mimetype": "text/x-python",
   "name": "python",
   "nbconvert_exporter": "python",
   "pygments_lexer": "ipython3",
   "version": "3.7.2"
  }
 },
 "nbformat": 4,
 "nbformat_minor": 4
}
