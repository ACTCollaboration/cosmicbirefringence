{
 "cells": [
  {
   "cell_type": "code",
   "execution_count": 1,
   "metadata": {},
   "outputs": [],
   "source": [
    "import numpy as np, analysis as ana, prjlib, basic\n",
    "from matplotlib.pyplot import *"
   ]
  },
  {
   "cell_type": "code",
   "execution_count": 2,
   "metadata": {},
   "outputs": [],
   "source": [
    "# baseline\n",
    "p0, __ = prjlib.filename_init(PSA='s14&15_deep56',stype='lcmb',doreal='True',dearot='True',rlmin='200')\n",
    "ocl0 = (np.loadtxt(p0.quad.f['EB'].ocls)).T[1]\n",
    "scl0 = np.array([np.loadtxt(p0.quad.f['EB'].cl[i],unpack=True)[1] for i in range(1,201)])"
   ]
  },
  {
   "cell_type": "code",
   "execution_count": 3,
   "metadata": {},
   "outputs": [
    {
     "name": "stdout",
     "output_type": "stream",
     "text": [
      "300 2048 -1.9 0.62 5.9 0.8\n",
      "200 1948 1.6 0.72 11.6 0.315\n",
      "200 2148 -4.9 0.18 9.7 0.56\n"
     ]
    },
    {
     "data": {
      "image/png": "[encoded data removed]",
      "text/plain": [
       "<Figure size 432x288 with 1 Axes>"
      ]
     },
     "metadata": {
      "needs_background": "light"
     },
     "output_type": "display_data"
    }
   ],
   "source": [
    "Lmin = 20\n",
    "mb, mb0, mb1 = prjlib.binning_all(10,lmin=Lmin,Lsp=2048)\n",
    "xlim(np.sqrt(Lmin),np.sqrt(2048))\n",
    "ylim(-5,5)\n",
    "xs = np.array([20,50,100,200,500,1000,2000])\n",
    "xticks(np.sqrt(xs),xs)\n",
    "xlabel('$L$')\n",
    "ylabel(r'$C_L^{\\alpha\\alpha}/\\sigma_L^{\\alpha\\alpha}$')\n",
    "for i, (rlmin, rlmax) in enumerate([('300','2048'),('200','1948'),('200','2148')]):\n",
    "    p1, __ = prjlib.filename_init(PSA='s14&15_deep56',stype='lcmb',doreal='True',dearot='True',rlmin=rlmin,rlmax=rlmax)\n",
    "    ocl1 = (np.loadtxt(p1.quad.f['EB'].ocls)).T[1]\n",
    "    scl1 = np.array([np.loadtxt(p1.quad.f['EB'].cl[i],unpack=True)[1] for i in range(1,201)])\n",
    "    docb = prjlib.binning(ocl1-ocl0,mb0,mb1)\n",
    "    dscb = prjlib.binning(scl1-scl0,mb0,mb1)\n",
    "    dmcl = np.mean(dscb,axis=0)\n",
    "    dvcl = np.std(dscb,axis=0)\n",
    "    st = ana.statistics(docb,dscb)\n",
    "    ana.statistics.x1PTE(st)\n",
    "    ana.statistics.x2PTE(st)\n",
    "    print(rlmin,rlmax,np.around(st.ox1,decimals=1), np.around(st.px1,decimals=3), np.around(st.ox2,decimals=1), np.around(st.px2,decimals=3))\n",
    "    Label = r'$'+str(rlmin)+'\\leq \\ell\\leq'+str(rlmax)+'$: $\\chi^2$-PTE$='+str(np.around(st.px2,decimals=2))+'$'\n",
    "    errorbar(np.sqrt(mb.bc)+0.5*(i-1),(docb-dmcl)/dvcl,yerr=dvcl/dvcl,fmt='o',label=Label)\n",
    "\n",
    "axhline(0,ls='--',color='k')\n",
    "legend(loc=0,frameon=False)\n",
    "savefig('fig_specjack.png')"
   ]
  },
  {
   "cell_type": "code",
   "execution_count": null,
   "metadata": {},
   "outputs": [],
   "source": []
  }
 ],
 "metadata": {
  "kernelspec": {
   "display_name": "py4so",
   "language": "python",
   "name": "py4so"
  },
  "language_info": {
   "codemirror_mode": {
    "name": "ipython",
    "version": 3
   },
   "file_extension": ".py",
   "mimetype": "text/x-python",
   "name": "python",
   "nbconvert_exporter": "python",
   "pygments_lexer": "ipython3",
   "version": "3.7.2"
  }
 },
 "nbformat": 4,
 "nbformat_minor": 4
}
