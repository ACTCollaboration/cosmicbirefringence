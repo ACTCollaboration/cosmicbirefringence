{
 "cells": [
  {
   "cell_type": "code",
   "execution_count": 1,
   "metadata": {},
   "outputs": [],
   "source": [
    "import numpy as np\n",
    "import pickle\n",
    "import analysis as ana\n",
    "import prjlib\n",
    "import cmb_map2alm"
   ]
  },
  {
   "cell_type": "code",
   "execution_count": 2,
   "metadata": {},
   "outputs": [],
   "source": [
    "def derotate(alpha,Elm,Blm):\n",
    "    rElm = Elm*np.cos(2*alpha) - Blm*np.sin(2*alpha)\n",
    "    rBlm = Elm*np.sin(2*alpha) + Blm*np.cos(2*alpha)\n",
    "    return rElm, rBlm"
   ]
  },
  {
   "cell_type": "code",
   "execution_count": 7,
   "metadata": {},
   "outputs": [
    {
     "name": "stdout",
     "output_type": "stream",
     "text": [
      "obs A [deg] 0.709 sigma(A) [deg] 0.177 A>oA 0.0\n",
      "0.56 0.23\n",
      "obs A [deg] 0.48 sigma(A) [deg] 0.183 A>oA 0.02\n",
      "0.32 0.36\n",
      "obs A [deg] 0.183 sigma(A) [deg] 0.181 A>oA 0.15\n",
      "0.76 0.41\n",
      "obs A [deg] 0.047 sigma(A) [deg] 0.063 A>oA 0.24\n",
      "0.28 0.0\n",
      "obs A [deg] -0.238 sigma(A) [deg] 0.076 A>oA 1.0\n",
      "0.14 0.16\n",
      "obs A [deg] -0.184 sigma(A) [deg] 0.063 A>oA 1.0\n",
      "0.42 0.14\n"
     ]
    }
   ],
   "source": [
    "patch = 'deep56'\n",
    "#patch = 'boss'\n",
    "brange = [(200,2048),(500,3000),(200,3000)]\n",
    "for spec in ['TB','EB']:\n",
    "    for b0, b1 in brange:\n",
    "        prjlib.est_angles(patch,spec,lmin=b0,lmax=b1)"
   ]
  },
  {
   "cell_type": "code",
   "execution_count": 4,
   "metadata": {},
   "outputs": [
    {
     "name": "stdout",
     "output_type": "stream",
     "text": [
      "NSIDE = 2048\n",
      "ORDERING = RING in fits file\n",
      "INDXSCHM = IMPLICIT\n",
      "/global/homes/t/toshiyan/Work/Ongoing/ACT/data/curvedsky/mask//s14+15_deep56_n2048_a1.fits\n",
      "NSIDE = 2048\n",
      "ORDERING = RING in fits file\n",
      "INDXSCHM = IMPLICIT\n",
      "0.011230911538842876 0.011092076337316133\n",
      "load alm 0\n",
      "save real\n"
     ]
    }
   ],
   "source": [
    "ps, fs = prjlib.filename_init(doreal='True')\n",
    "pc, fc, rc = prjlib.init(doreal='True',dearot='True')\n",
    "alpha = -0.235*np.pi/180.\n",
    "oTlm = pickle.load(open(fs.alm['T'][0],\"rb\"))\n",
    "oElm = pickle.load(open(fs.alm['E'][0],\"rb\"))\n",
    "oBlm = pickle.load(open(fs.alm['B'][0],\"rb\"))\n",
    "rTlm = oTlm\n",
    "rElm, rBlm = derotate(alpha,oElm,oBlm)\n",
    "pickle.dump((rTlm),open(fc.alm['T'][0],\"wb\"),protocol=pickle.HIGHEST_PROTOCOL)\n",
    "pickle.dump((rElm),open(fc.alm['E'][0],\"wb\"),protocol=pickle.HIGHEST_PROTOCOL)\n",
    "pickle.dump((rBlm),open(fc.alm['B'][0],\"wb\"),protocol=pickle.HIGHEST_PROTOCOL)\n",
    "cmb_map2alm.cmbalm2cl(fc,rc.w2,0,1,pc.lmax)"
   ]
  },
  {
   "cell_type": "code",
   "execution_count": 5,
   "metadata": {},
   "outputs": [
    {
     "name": "stdout",
     "output_type": "stream",
     "text": [
      "obs A [deg] 0.195 sigma(A) [deg] 0.156 A>oA 0.12\n",
      "0.42 0.97\n",
      "obs A [deg] -0.0 sigma(A) [deg] 0.055 A>oA 0.39\n",
      "0.38 0.02\n"
     ]
    }
   ],
   "source": [
    "prjlib.est_angles('deep56','TB',dearot='True',lmin=200,lmax=2048)\n",
    "prjlib.est_angles('deep56','EB',dearot='True',lmin=200,lmax=2048)\n",
    "#prjlib.est_angles('deep56','EB',lmin=200,lmax=2048)"
   ]
  },
  {
   "cell_type": "code",
   "execution_count": null,
   "metadata": {},
   "outputs": [],
   "source": []
  }
 ],
 "metadata": {
  "kernelspec": {
   "display_name": "py4so",
   "language": "python",
   "name": "py4so"
  },
  "language_info": {
   "codemirror_mode": {
    "name": "ipython",
    "version": 3
   },
   "file_extension": ".py",
   "mimetype": "text/x-python",
   "name": "python",
   "nbconvert_exporter": "python",
   "pygments_lexer": "ipython3",
   "version": "3.7.2"
  }
 },
 "nbformat": 4,
 "nbformat_minor": 4
}
