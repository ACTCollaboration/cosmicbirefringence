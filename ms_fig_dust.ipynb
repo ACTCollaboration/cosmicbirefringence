{
 "cells": [
  {
   "cell_type": "code",
   "execution_count": 1,
   "metadata": {},
   "outputs": [],
   "source": [
    "import numpy as np\n",
    "from matplotlib.pyplot import *\n",
    "import plottools as pl\n",
    "import binning as bins\n",
    "import prjlib"
   ]
  },
  {
   "cell_type": "code",
   "execution_count": 2,
   "metadata": {},
   "outputs": [],
   "source": [
    "ps, __ = prjlib.filename_init(doreal='False',rlmin='200',stype='lcmb')\n",
    "pd, __ = prjlib.filename_init(doreal='False',rlmin='200',stype='dust')\n",
    "sn = 100\n",
    "Lmin = 20\n",
    "mb = bins.multipole_binning(10,spc='p2',lmin=Lmin,lmax=2048)\n",
    "scb = prjlib.binned_cl_rlz(ps.quad.f['EB'].cl,0,sn,mb)\n",
    "mcb = np.mean(scb,axis=0)\n",
    "vcb = np.std(scb,axis=0)\n",
    "sob = prjlib.binned_cl(ps.quad.f['EB'].ocls,mb)\n",
    "dob = prjlib.binned_cl(pd.quad.f['EB'].ocls,mb)"
   ]
  },
  {
   "cell_type": "code",
   "execution_count": 5,
   "metadata": {},
   "outputs": [
    {
     "data": {
      "image/png": "[encoded data removed]",
      "text/plain": [
       "<Figure size 432x288 with 1 Axes>"
      ]
     },
     "metadata": {
      "needs_background": "light"
     },
     "output_type": "display_data"
    }
   ],
   "source": [
    "pl.plot_1dstyle(frac=True,spc='p2',ylab=r'$C_L^{\\alpha\\alpha}/\\sigma(C_L^{\\alpha\\alpha})$',xmin=Lmin,ymin=-1,ymax=1,yticks=[-1,-.5,0,.5,1])\n",
    "errorbar(np.sqrt(mb.bc),(dob-sob)/vcb,fmt='o',color='r',lw=2)\n",
    "#legend(loc=0,frameon=False)\n",
    "savefig('fig_dust.png')"
   ]
  },
  {
   "cell_type": "code",
   "execution_count": null,
   "metadata": {},
   "outputs": [],
   "source": []
  }
 ],
 "metadata": {
  "kernelspec": {
   "display_name": "py4so",
   "language": "python",
   "name": "py4so"
  },
  "language_info": {
   "codemirror_mode": {
    "name": "ipython",
    "version": 3
   },
   "file_extension": ".py",
   "mimetype": "text/x-python",
   "name": "python",
   "nbconvert_exporter": "python",
   "pygments_lexer": "ipython3",
   "version": "3.7.2"
  }
 },
 "nbformat": 4,
 "nbformat_minor": 4
}
