{
 "cells": [
  {
   "cell_type": "code",
   "execution_count": 1,
   "metadata": {},
   "outputs": [],
   "source": [
    "import numpy as np, prjlib, analysis as ana, plottools as pl\n",
    "from matplotlib.pyplot import *"
   ]
  },
  {
   "cell_type": "code",
   "execution_count": 2,
   "metadata": {},
   "outputs": [],
   "source": [
    "ps, __ = prjlib.filename_init(doreal='True',rlmin='200',dearot='True')\n",
    "mb, __, __ = prjlib.binning_all(10,lmin=20)\n",
    "n0b = prjlib.binned_cl(ps.quad.f['EB'].n0bs,mb)\n",
    "scb = prjlib.binned_cl_rlz(ps.quad.f['EB'].cl,1,200,mb)"
   ]
  },
  {
   "cell_type": "code",
   "execution_count": 8,
   "metadata": {},
   "outputs": [],
   "source": [
    "imax = 41\n",
    "rdb = prjlib.binned_cl_rlz(ps.quad.f['EB'].rdn0,1,imax,mb)\n",
    "sc0 = scb[:imax,:] + n0b[None,:] - rdb\n",
    "rdb = prjlib.binned_cl_rlz(ps.quad.f['EB'].rdn0,101,119,mb)\n",
    "sc1 = scb[100:119,:] + n0b[None,:] - rdb\n",
    "Scb = np.concatenate((sc0,sc1))"
   ]
  },
  {
   "cell_type": "code",
   "execution_count": 10,
   "metadata": {},
   "outputs": [
    {
     "name": "stdout",
     "output_type": "stream",
     "text": [
      "-2.5 0.8421 12.0 0.7895\n",
      "-1.1 0.585 4.3 0.935\n",
      "3.3496030932413765 2.5128804216032328\n",
      "19.120786957026645 26.852845505344018 4.992975244689924 10.541261241078479\n"
     ]
    }
   ],
   "source": [
    "ocb = prjlib.binned_cl(ps.quad.f['EB'].cl[0],mb)\n",
    "#st0 = ana.PTEs(ocb,scb[:imax,:]+n0b[None,:]-rdb[:imax,:])\n",
    "st0 = ana.PTEs(ocb,sc0)\n",
    "st1 = ana.PTEs(ocb,scb[:,:])\n",
    "print(min(st0.sx2),min(st1.sx2))\n",
    "print(np.std(st0.sx2),np.mean(st0.sx2),np.std(st1.sx2),np.mean(st1.sx2))"
   ]
  },
  {
   "cell_type": "code",
   "execution_count": null,
   "metadata": {},
   "outputs": [],
   "source": [
    "dif = np.zeros(imax)\n",
    "px2 = np.zeros((imax,2))\n",
    "for i in range(imax):\n",
    "    ocb = scb[i,:] + n0b - rdb[i,:] \n",
    "    st0 = ana.PTEs(ocb,np.delete(scb[:imax,:]+n0b-rdb[:imax,:],i,0),disp=False)\n",
    "    st1 = ana.PTEs(ocb,np.delete(scb[:imax,:],i,0),disp=False)\n",
    "    dif[i] = st0.px2-st1.px2\n",
    "    px2[i,0] = st0.px2\n",
    "    px2[i,1] = st1.px2\n",
    "print(np.mean(dif),np.std(dif))"
   ]
  },
  {
   "cell_type": "code",
   "execution_count": null,
   "metadata": {},
   "outputs": [],
   "source": [
    "pl.plot_corr(scb,20,2048,clab='corr. coeff.')\n",
    "pl.plot_corr(scb[:imax,:]+n0b-rdb[:imax,:],20,2048,clab='corr. coeff.')"
   ]
  },
  {
   "cell_type": "code",
   "execution_count": null,
   "metadata": {},
   "outputs": [],
   "source": []
  }
 ],
 "metadata": {
  "kernelspec": {
   "display_name": "py4so",
   "language": "python",
   "name": "py4so"
  },
  "language_info": {
   "codemirror_mode": {
    "name": "ipython",
    "version": 3
   },
   "file_extension": ".py",
   "mimetype": "text/x-python",
   "name": "python",
   "nbconvert_exporter": "python",
   "pygments_lexer": "ipython3",
   "version": "3.7.2"
  }
 },
 "nbformat": 4,
 "nbformat_minor": 4
}
