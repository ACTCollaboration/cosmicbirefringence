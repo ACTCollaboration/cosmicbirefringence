{
 "cells": [
  {
   "cell_type": "code",
   "execution_count": 1,
   "metadata": {},
   "outputs": [],
   "source": [
    "import numpy as np, prjlib, binning as bins, plottools as pl\n",
    "from matplotlib.pyplot import *"
   ]
  },
  {
   "cell_type": "code",
   "execution_count": 2,
   "metadata": {},
   "outputs": [],
   "source": [
    "ps, fs = prjlib.filename_init(PSA='s14&15_deep56',stype='lcmb',ver='v1')\n",
    "pa, fa = prjlib.filename_init(PSA='s14&15_deep56',stype='relrot')\n",
    "mb = bins.multipole_binning(10,spc='p2',lmin=20)\n",
    "cs = prjlib.binned_cl_rlz(ps.quad.f['EB'].cl,1,100,mb)\n",
    "vs = np.std(cs,axis=0)\n",
    "ca = prjlib.binned_cl_rlz(pa.quad.f['EB'].cl,1,100,mb)\n",
    "#l, ca = np.loadtxt(pa.quad.f['EB'].mcls,usecols=(0,1),unpack=True)[:,1:]"
   ]
  },
  {
   "cell_type": "code",
   "execution_count": 3,
   "metadata": {},
   "outputs": [
    {
     "data": {
      "text/plain": [
       "<matplotlib.lines.Line2D at 0x2aaadcf8a080>"
      ]
     },
     "execution_count": 3,
     "metadata": {},
     "output_type": "execute_result"
    },
    {
     "data": {
      "image/png": "[encoded data removed]",
      "text/plain": [
       "<Figure size 432x288 with 1 Axes>"
      ]
     },
     "metadata": {
      "needs_background": "light"
     },
     "output_type": "display_data"
    }
   ],
   "source": [
    "pl.plot_1dstyle(ylab=r'$\\Delta C_L^{\\alpha\\alpha}/\\sigma(C_L^{\\alpha\\alpha})$ (deep56) [%]',spc='p2',xmin=10,xmax=2048,ymin=-.5,ymax=.5)\n",
    "errorbar(np.sqrt(mb.bc),np.mean(ca-cs,axis=0)*100./vs,fmt='o')\n",
    "axhline(0,color='k',ls='--')\n",
    "#legend(loc=0)\n",
    "#savefig('fig_relrot.png')"
   ]
  },
  {
   "cell_type": "code",
   "execution_count": null,
   "metadata": {},
   "outputs": [],
   "source": []
  }
 ],
 "metadata": {
  "kernelspec": {
   "display_name": "py4so",
   "language": "python",
   "name": "py4so"
  },
  "language_info": {
   "codemirror_mode": {
    "name": "ipython",
    "version": 3
   },
   "file_extension": ".py",
   "mimetype": "text/x-python",
   "name": "python",
   "nbconvert_exporter": "python",
   "pygments_lexer": "ipython3",
   "version": "3.7.2"
  }
 },
 "nbformat": 4,
 "nbformat_minor": 4
}
