{
 "cells": [
  {
   "cell_type": "code",
   "execution_count": null,
   "metadata": {},
   "outputs": [],
   "source": [
    "import numpy as np, analysis as ana, plottools as pl, prjlib\n",
    "from matplotlib.pyplot import *\n",
    "from scipy.optimize import curve_fit"
   ]
  },
  {
   "cell_type": "code",
   "execution_count": null,
   "metadata": {},
   "outputs": [],
   "source": [
    "def likefunc(A,c0,c1,mscb,icov,bi=0):\n",
    "    bn = np.shape(mscb)\n",
    "    return np.exp(ana.lnLHL(A/c0*np.ones(bn),c1*mscb,icov,bi))\n",
    "\n",
    "def fitlikefunc(xdat,ydat,yerr,mscb,icov,c1=None,bi=0):\n",
    "    bn = np.shape(mscb)\n",
    "    index = np.where(yerr==0.)\n",
    "    x = np.delete(xdat,index)\n",
    "    y = np.delete(ydat,index)\n",
    "    s = np.delete(yerr,index)\n",
    "    if c1 is None:\n",
    "        like = lambda x, c0, c1: np.exp(ana.lnLHLs(x/c0,c1*mscb,icov,bi))\n",
    "        p, __ = curve_fit(like,x,y,sigma=s,p0=[1.,1.])\n",
    "        return p[0], p[1]\n",
    "    else:\n",
    "        like = lambda x, c0: np.exp(ana.lnLHLs(x/c0,mscb,icov,bi))\n",
    "        p, __ = curve_fit(like,x,y,sigma=s,p0=[1.])\n",
    "        return p[0]"
   ]
  },
  {
   "cell_type": "code",
   "execution_count": null,
   "metadata": {},
   "outputs": [],
   "source": [
    "def loaddata(bn,lmin,Acb): #output binned spectra\n",
    "    ps, __ = prjlib.filename_init(rlmin='200',stype='lcmb',PSA='s14&15_deep56',doreal='True',dearot='True')\n",
    "    if Acb=='0.0':\n",
    "        pa = ps\n",
    "    else:\n",
    "        pa, __ = prjlib.filename_init(rlmin='200',stype='a'+str(Acb).replace('.','p'),PSA='s14&15_deep56')\n",
    "    pA, __ = prjlib.filename_init(rlmin='200',stype='a0p3',PSA='s14&15_deep56')\n",
    "    mb, mb0, mb1 = prjlib.binning_all(bn,lmin=lmin,Lsp=2048)\n",
    "    sn0b = prjlib.binned_cl(ps.quad.f['EB'].n0bs,mb0,mb1)\n",
    "    scb = prjlib.binned_cl_rlz(ps.quad.f['EB'].cl,1,200,mb0,mb1) + sn0b[None,:]\n",
    "    acb = prjlib.binned_cl_rlz(pa.quad.f['EB'].cl,1,100,mb0,mb1) + sn0b[None,:]\n",
    "    Acb = prjlib.binned_cl_rlz(pA.quad.f['EB'].cl,1,100,mb0,mb1) + sn0b[None,:]\n",
    "    ocb = prjlib.binned_cl(ps.quad.f['EB'].cl[0],mb0,mb1) + sn0b\n",
    "    macb = np.mean(acb,axis=0)\n",
    "    mscb = np.mean(scb[:100],axis=0)\n",
    "    dacb = (np.mean(Acb,axis=0) - mscb)/3.\n",
    "    icov = ana.get_cov(scb[100:],cinv=True)\n",
    "    return mb, ocb, scb, mscb, acb, macb, dacb, icov"
   ]
  },
  {
   "cell_type": "code",
   "execution_count": null,
   "metadata": {},
   "outputs": [],
   "source": [
    "def fit_c0c1(Ab,mscb,icov,histbn=None,lmin=20,do_plot=False):\n",
    "    # output c0 and c1\n",
    "    nv = np.shape(Ab)[0]\n",
    "    bn = np.shape(Ab)[1]\n",
    "    c0 = np.zeros(bn)\n",
    "    c1 = np.zeros(bn)\n",
    "    if histbn is None:\n",
    "        histbn = np.int(np.sqrt(nv))\n",
    "    for bi in range(bn):\n",
    "        N, be = np.histogram(Ab[:,bi],bins=histbn)\n",
    "        An = (be[1:]+be[:-1])*.5\n",
    "        if bi<=4: # well fitted by assuming c1=1\n",
    "            c0[bi] = fitlikefunc(An,N/np.max(N),np.sqrt(N)/np.max(N),mscb,icov,c1=1.,bi=bi)\n",
    "            c1[bi] = 1.\n",
    "        if bi>=5: # need c1 correction\n",
    "            c0[bi], c1[bi] = fitlikefunc(An,N/np.max(N),np.sqrt(N)/np.max(N),mscb,icov,bi=bi) # fit likelihood\n",
    "\n",
    "        if do_plot:\n",
    "            pl.hist_errorbars(Ab[:,bi],fsize=[4,3],bins=histbn,ymax=1.2)\n",
    "            A = np.arange(np.min(Ab[:,bi]),np.max(Ab[:,bi]),(np.max(Ab[:,bi])-np.min(Ab[:,bi]))/50.)\n",
    "            Lh = np.array([likefunc(a,c0[bi],c1[bi],mscb,icov,bi) for a in A])\n",
    "            plot(A,Lh/np.max(Lh),'r-',label='HL,c0='+str(c0[bi])[:4]+',c1='+str(c1[bi])[:4])\n",
    "            legend(loc=0,frameon=False)\n",
    "            #savefig('fig_fit_bin'+str(bi)+'.png')\n",
    "            show()\n",
    "            clf()\n",
    "\n",
    "    return c0,c1"
   ]
  },
  {
   "cell_type": "code",
   "execution_count": null,
   "metadata": {},
   "outputs": [],
   "source": [
    "As = np.array([0.0,0.01,0.02,0.03,0.04,0.05,0.06,0.07,0.08,0.09,0.1,0.11,0.12,0.13,0.14,0.3])\n",
    "c0 = np.zeros((len(As),10))\n",
    "c1 = np.zeros((len(As),10))\n",
    "for i, Acb in enumerate(As):\n",
    "    # load data\n",
    "    mb, ocb, scb, mscb, acb, macb, dacb, icov =loaddata(10,lmin=20,Acb=str(Acb))\n",
    "    # fit c0 and c1\n",
    "    if Acb == 0.0:\n",
    "        Ab = scb[:100,:]/mscb[None,:]\n",
    "    else:\n",
    "        Ab = acb[:100,:]/macb[None,:]\n",
    "    c0[i,:], c1[i,:] = fit_c0c1(Ab,mscb,icov,lmin=20,do_plot=True)\n",
    "    print(c0[i,0],c1[i,0])"
   ]
  },
  {
   "cell_type": "code",
   "execution_count": null,
   "metadata": {},
   "outputs": [],
   "source": [
    "for bi in [0]:\n",
    "    plot(As,c0[:,bi])\n",
    "    plot(As,c1[:,bi])"
   ]
  },
  {
   "cell_type": "code",
   "execution_count": null,
   "metadata": {},
   "outputs": [],
   "source": [
    "ai = 10\n",
    "A = np.arange(0.,0.5,0.001)\n",
    "Ai = np.zeros(100)\n",
    "CL = np.zeros(100)\n",
    "ylim(0,1)\n",
    "xlim(0,0.25)\n",
    "grid(True)\n",
    "axhline(0.95,color='k',ls='--')\n",
    "for i in range(100):\n",
    "    Lh = prjlib.posterior(A,scb[i,:],mscb,dacb,icov,c0[ai,:],c1[ai,:])\n",
    "    if i==0: Lh = prjlib.posterior(A,ocb,mscb,dacb,icov,c0[ai,:],c1[ai,:])\n",
    "    #plot(A,Lh/np.max(Lh),'k--',alpha=.3)\n",
    "    if i==0: plot(A,Lh/np.max(Lh),'k-')\n",
    "    CDF = np.cumsum(Lh)/np.sum(Lh)\n",
    "    #plot(A,CDF,'m-',alpha=.3)\n",
    "    if i==0: plot(A,CDF,'r-',lw=2)\n",
    "    Ai[i] = A[np.argmax(Lh)]\n",
    "    CL[i] = A[np.abs(CDF-0.95).argmin()]\n",
    "\n",
    "print(CL[0],np.median(CL),np.mean(CL))\n",
    "print(np.sqrt(CL[0]*1e-4)*4*np.pi)\n",
    "#savefig('fig_pdf.png')\n",
    "show()\n",
    "clf()"
   ]
  },
  {
   "cell_type": "code",
   "execution_count": null,
   "metadata": {},
   "outputs": [],
   "source": []
  }
 ],
 "metadata": {
  "kernelspec": {
   "display_name": "py4so",
   "language": "python",
   "name": "py4so"
  },
  "language_info": {
   "codemirror_mode": {
    "name": "ipython",
    "version": 3
   },
   "file_extension": ".py",
   "mimetype": "text/x-python",
   "name": "python",
   "nbconvert_exporter": "python",
   "pygments_lexer": "ipython3",
   "version": "3.7.2"
  }
 },
 "nbformat": 4,
 "nbformat_minor": 4
}
