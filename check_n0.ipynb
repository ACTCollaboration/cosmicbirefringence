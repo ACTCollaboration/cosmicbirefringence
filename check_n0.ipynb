{
 "cells": [
  {
   "cell_type": "code",
   "execution_count": 66,
   "metadata": {},
   "outputs": [],
   "source": [
    "import numpy as np\n",
    "from matplotlib.pyplot import *\n",
    "import prjlib"
   ]
  },
  {
   "cell_type": "code",
   "execution_count": 70,
   "metadata": {},
   "outputs": [],
   "source": [
    "ps, fs = prjlib.filename_init(doreal='True',stype='lcmb')\n",
    "pb, fb = prjlib.filename_init(doreal='False',PSA='s14+15_boss',stype='lcmb')\n",
    "pa, fa = prjlib.filename_init(doreal='False',stype='a0p1',rlmin='300')\n",
    "pL, fL = prjlib.filename_init(doreal='True',stype='lcmb',rlmax='2148')"
   ]
  },
  {
   "cell_type": "code",
   "execution_count": 71,
   "metadata": {},
   "outputs": [],
   "source": [
    "L, n0 = np.loadtxt(ps.quad.f['EB'].n0bl,usecols=(0,1),unpack=True)\n",
    "L, nL = np.loadtxt(pL.quad.f['EB'].n0bl,usecols=(0,1),unpack=True)\n",
    "L, N0 = np.loadtxt(pa.quad.f['EB'].n0bl,usecols=(0,1),unpack=True)\n",
    "#L, N0 = np.loadtxt(pb.quad.f['EB'].n0bl,usecols=(0,1),unpack=True)\n",
    "L, al = np.loadtxt(ps.quad.f['EB'].al,usecols=(0,1),unpack=True)\n",
    "L, rd = np.loadtxt(ps.quad.f['EB'].rdn0[1],usecols=(0,1),unpack=True)\n",
    "L, cl = np.loadtxt(ps.quad.f['EB'].cl[1],usecols=(0,1),unpack=True)\n",
    "L, RD = np.loadtxt(pa.quad.f['EB'].rdn0[1],usecols=(0,1),unpack=True)\n",
    "#L, aa = np.loadtxt(ps.quad.f['EB'].mcls,usecols=(0,1),unpack=True)"
   ]
  },
  {
   "cell_type": "code",
   "execution_count": 78,
   "metadata": {},
   "outputs": [
    {
     "data": {
      "image/png": "[encoded data removed]",
      "text/plain": [
       "<Figure size 432x288 with 1 Axes>"
      ]
     },
     "metadata": {
      "needs_background": "light"
     },
     "output_type": "display_data"
    }
   ],
   "source": [
    "xlim(20,2048)\n",
    "#ylim(1e-7,5e-7)\n",
    "xscale('log')\n",
    "#yscale('log')\n",
    "xlabel('$L$')\n",
    "ylabel(r'$N_L$')\n",
    "plot(L,n0,label=r'N0')\n",
    "#plot(L,nL,label=r'N0')\n",
    "#plot(L,al,label=r'Norm')\n",
    "#plot(L,rd,label=r'RDN0')\n",
    "#plot(L,N0,label=r'N0 + Acb')\n",
    "#plot(L,RD,label=r'RDN0 + Acb')\n",
    "legend(loc=0,frameon=False)\n",
    "savefig('fig_n0.png')"
   ]
  },
  {
   "cell_type": "code",
   "execution_count": null,
   "metadata": {},
   "outputs": [],
   "source": []
  }
 ],
 "metadata": {
  "kernelspec": {
   "display_name": "py4so",
   "language": "python",
   "name": "py4so"
  },
  "language_info": {
   "codemirror_mode": {
    "name": "ipython",
    "version": 3
   },
   "file_extension": ".py",
   "mimetype": "text/x-python",
   "name": "python",
   "nbconvert_exporter": "python",
   "pygments_lexer": "ipython3",
   "version": "3.7.2"
  }
 },
 "nbformat": 4,
 "nbformat_minor": 4
}
