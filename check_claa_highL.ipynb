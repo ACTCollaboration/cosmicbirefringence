{
 "cells": [
  {
   "cell_type": "code",
   "execution_count": 1,
   "metadata": {},
   "outputs": [],
   "source": [
    "import numpy as np, basic, prjlib, plottools as pl, binning as bins\n",
    "from matplotlib.pyplot import *\n",
    "s = (180./np.pi)**2*1e4"
   ]
  },
  {
   "cell_type": "code",
   "execution_count": 2,
   "metadata": {},
   "outputs": [],
   "source": [
    "mb = bins.multipole_binning(12,spc='p2',lmin=20,lmax=3000)\n",
    "p, __ = prjlib.filename_init(doreal='True',rlmin='200',dearot='False',ver='v1',qtagext='_oL3000')\n",
    "scb = s*prjlib.binned_cl_rlz(p.quad.f['EB'].cl,1,100,mb)\n",
    "vcb = np.std(scb,axis=0)\n",
    "mcb = np.mean(scb,axis=0)"
   ]
  },
  {
   "cell_type": "code",
   "execution_count": 3,
   "metadata": {},
   "outputs": [
    {
     "name": "stderr",
     "output_type": "stream",
     "text": [
      "No handles with labels found to put in legend.\n"
     ]
    },
    {
     "data": {
      "text/plain": [
       "<matplotlib.legend.Legend at 0x2aaadd01cf60>"
      ]
     },
     "execution_count": 3,
     "metadata": {},
     "output_type": "execute_result"
    },
    {
     "data": {
      "image/png": "[encoded data removed]",
      "text/plain": [
       "<Figure size 576x360 with 1 Axes>"
      ]
     },
     "metadata": {
      "needs_background": "light"
     },
     "output_type": "display_data"
    }
   ],
   "source": [
    "pl.plot_1dstyle(fsize=[8,5],ylab=r'$10^4 \\times C_L^{\\alpha\\alpha}$ [deg$^2$]',spc='p2',xmin=20,xmax=3000,ymin=-2,ymax=2)\n",
    "errorbar(np.sqrt(mb.bc),mcb-mcb,yerr=vcb,fmt='o',label='',color='r',lw=2)\n",
    "axhline(0,color='k',ls='--')\n",
    "legend(loc=0)\n",
    "#savefig('fig_comparison.png')"
   ]
  },
  {
   "cell_type": "code",
   "execution_count": null,
   "metadata": {},
   "outputs": [],
   "source": []
  }
 ],
 "metadata": {
  "kernelspec": {
   "display_name": "py4so",
   "language": "python",
   "name": "py4so"
  },
  "language_info": {
   "codemirror_mode": {
    "name": "ipython",
    "version": 3
   },
   "file_extension": ".py",
   "mimetype": "text/x-python",
   "name": "python",
   "nbconvert_exporter": "python",
   "pygments_lexer": "ipython3",
   "version": "3.7.2"
  }
 },
 "nbformat": 4,
 "nbformat_minor": 4
}
