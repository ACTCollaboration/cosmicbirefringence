{
 "cells": [
  {
   "cell_type": "code",
   "execution_count": 1,
   "metadata": {},
   "outputs": [],
   "source": [
    "import numpy as np\n",
    "import healpy as hp\n",
    "import pickle\n",
    "from matplotlib.pyplot import *\n",
    "# cmblensplus\n",
    "import analysis as ana\n",
    "import basic\n",
    "import curvedsky\n",
    "# local\n",
    "import prjlib"
   ]
  },
  {
   "cell_type": "code",
   "execution_count": 3,
   "metadata": {},
   "outputs": [],
   "source": [
    "h = 6.626e-34\n",
    "c = 3e8\n",
    "kB = 1.38e-23\n",
    "\n",
    "def Int_Planck(nu,T): \n",
    "    '''\n",
    "    Black body I(nu)\n",
    "    nu [GHz]\n",
    "    '''\n",
    "    return 2*h*(nu*1e9)**3/c**2 * (np.exp(h*nu*1e9/kB/T)-1.)**(-1)\n",
    "\n",
    "def Int_dust(nu,Td=19.6,beta=1.53): \n",
    "    '''\n",
    "    Dust I(nu) as a modified Black body\n",
    "    Td, beta: values from arXiv 1801.04945\n",
    "    nu [GHz]\n",
    "    '''\n",
    "    return (nu*1e9)**beta*Int_Planck(nu,Td)\n",
    "\n",
    "#def RJfunc(nu,T):\n",
    "#    return 2*nu**2/c**2 * kB*T\n",
    "#\n",
    "#def Int_Planck_deriv(nu,T):\n",
    "#    return 2*h*nu**3/c**2 * (np.exp(h*nu/kB/T)-1.)**(-2)*(np.exp(h*nu/kB/T)*h*nu/kB/T**2)"
   ]
  },
  {
   "cell_type": "code",
   "execution_count": 4,
   "metadata": {},
   "outputs": [
    {
     "name": "stdout",
     "output_type": "stream",
     "text": [
      "total scaliing 0.0487746935452379 0.06411373144462366 0.760752688172043\n"
     ]
    }
   ],
   "source": [
    "R = Int_dust(150)/Int_dust(353)\n",
    "C = 283./372. # MJy/sr <-> K_CMB conversion factor (avg)\n",
    "#Tcmb = 2.726\n",
    "#V0 = Int_Planck_deriv(150*1e9,Tcmb)#*Tcmb/RJfunc(150*1e9,Tcmb)\n",
    "#V1 = Int_Planck_deriv(353*1e9,Tcmb)#*Tcmb/RJfunc(353*1e9,Tcmb)\n",
    "print('total scaliing',R*C,R,C)"
   ]
  },
  {
   "cell_type": "code",
   "execution_count": null,
   "metadata": {},
   "outputs": [],
   "source": [
    "ps, fs = prjlib.filename_init(doreal='False',dodust='False')\n",
    "pd, fd = prjlib.filename_init(doreal='False',dodust='True')"
   ]
  },
  {
   "cell_type": "code",
   "execution_count": null,
   "metadata": {},
   "outputs": [],
   "source": [
    "Tgal = hp.fitsfunc.read_map(fs.dust,field=0)*R*C/2.726\n",
    "Qgal = hp.fitsfunc.read_map(fs.dust,field=1)*R*C/2.726\n",
    "Ugal = hp.fitsfunc.read_map(fs.dust,field=2)*R*C/2.726\n",
    "M = hp.fitsfunc.read_map(fs.amask)\n",
    "rM = hp.fitsfunc.read_map(fs.rmask)\n",
    "W2 = np.average(rM**2*M**2)\n",
    "w2 = np.average(M**2)\n",
    "print(W2,w2)"
   ]
  },
  {
   "cell_type": "code",
   "execution_count": null,
   "metadata": {},
   "outputs": [],
   "source": [
    "T = ana.change_coord(Tgal,coord=['G','C'])\n",
    "Q = ana.change_coord(Qgal,coord=['G','C'])\n",
    "U = ana.change_coord(Ugal,coord=['G','C'])"
   ]
  },
  {
   "cell_type": "code",
   "execution_count": null,
   "metadata": {},
   "outputs": [],
   "source": [
    "v = 1e-5\n",
    "hp.mollview(Q,min=0,max=v)\n",
    "hp.mollview(U,min=0,max=v)"
   ]
  },
  {
   "cell_type": "code",
   "execution_count": null,
   "metadata": {},
   "outputs": [],
   "source": [
    "l, EEs, BBs = np.loadtxt(fs.scl,usecols=(0,2,3),unpack=True)\n",
    "icls = basic.aps.read_cambcls(fs.lcl,2,3000,4,bb=True)/(2.72e6)**2\n",
    "Tl = np.zeros(3001)\n",
    "Tl[20:] = np.sqrt((EEs[20:]-BBs[20:])/icls[1,20:])\n",
    "xlim(2,2048)\n",
    "plot(l[20:],Tl[20:])"
   ]
  },
  {
   "cell_type": "code",
   "execution_count": null,
   "metadata": {},
   "outputs": [],
   "source": [
    "Tlm = curvedsky.utils.hp_map2alm(2048,ps.lmax,ps.lmax,T*M)\n",
    "alm = curvedsky.utils.hp_map2alm_spin(2048,ps.lmax,ps.lmax,2,Q*M,U*M)\n",
    "dElm = alm[0,:,:]*Tl[:,None]\n",
    "dBlm = alm[1,:,:]*Tl[:,None]\n",
    "sElm = pickle.load(open(fs.alm['E'][0],\"rb\"))\n",
    "sBlm = pickle.load(open(fs.alm['B'][0],\"rb\"))\n",
    "tElm = sElm + dElm\n",
    "tBlm = sBlm + dBlm"
   ]
  },
  {
   "cell_type": "code",
   "execution_count": null,
   "metadata": {},
   "outputs": [],
   "source": [
    "L = np.linspace(0,ps.lmax,ps.lmax+1)\n",
    "#TT = curvedsky.utils.alm2cl(p.lmax,Tlm)#/w2\n",
    "EE = curvedsky.utils.alm2cl(ps.lmax,dElm)/w2\n",
    "BB = curvedsky.utils.alm2cl(ps.lmax,dBlm)/w2\n",
    "ee = curvedsky.utils.alm2cl(ps.lmax,alm[0,:,:])/w2\n",
    "bb = curvedsky.utils.alm2cl(ps.lmax,alm[1,:,:])/w2\n",
    "#EB = curvedsky.utils.alm2cl(ps.lmax,dElm,dBlm)/w2\n",
    "sEE = curvedsky.utils.alm2cl(ps.lmax,sElm)/w2\n",
    "sBB = curvedsky.utils.alm2cl(ps.lmax,sBlm)/w2\n",
    "tEB = curvedsky.utils.alm2cl(ps.lmax,tElm,tBlm)/w2\n",
    "l, mTT, mEE, mBB = (np.loadtxt(fs.scl,usecols=(0,1,2,3))).T\n",
    "s = 2.72e6**2*L*(L+1)/2/np.pi\n",
    "xlim(100,1000)\n",
    "grid(True)\n",
    "axvline(200,ls='--',color='k')\n",
    "ylim(1e-2,1e2)\n",
    "#loglog(L,TT*s)\n",
    "loglog(L,EE*s)\n",
    "loglog(L,BB*s)\n",
    "loglog(L,ee*s)\n",
    "loglog(L,bb*s)\n",
    "loglog(L,sEE*s,label='s')\n",
    "loglog(L,sBB*s,label='s')\n",
    "legend(loc=0)"
   ]
  },
  {
   "cell_type": "code",
   "execution_count": null,
   "metadata": {},
   "outputs": [],
   "source": [
    "pickle.dump((tElm),open(fd.alm['E'][0],\"wb\"),protocol=pickle.HIGHEST_PROTOCOL)\n",
    "pickle.dump((tBlm),open(fd.alm['B'][0],\"wb\"),protocol=pickle.HIGHEST_PROTOCOL)"
   ]
  },
  {
   "cell_type": "code",
   "execution_count": null,
   "metadata": {},
   "outputs": [],
   "source": []
  }
 ],
 "metadata": {
  "kernelspec": {
   "display_name": "py4so",
   "language": "python",
   "name": "py4so"
  },
  "language_info": {
   "codemirror_mode": {
    "name": "ipython",
    "version": 3
   },
   "file_extension": ".py",
   "mimetype": "text/x-python",
   "name": "python",
   "nbconvert_exporter": "python",
   "pygments_lexer": "ipython3",
   "version": "3.7.2"
  }
 },
 "nbformat": 4,
 "nbformat_minor": 4
}
