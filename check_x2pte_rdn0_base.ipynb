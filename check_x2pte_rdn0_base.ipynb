{
 "cells": [
  {
   "cell_type": "code",
   "execution_count": 1,
   "metadata": {},
   "outputs": [],
   "source": [
    "import numpy as np, prjlib, analysis as ana, plottools as pl, binning as bins\n",
    "from matplotlib.pyplot import *"
   ]
  },
  {
   "cell_type": "code",
   "execution_count": 2,
   "metadata": {},
   "outputs": [],
   "source": [
    "p, __ = prjlib.filename_init(doreal='True',rlmin='200',rlmax='2048',dearot='True',ver='v2')\n",
    "mb = bins.multipole_binning(10,lmin=20,lmax=2048,spc='p2')"
   ]
  },
  {
   "cell_type": "code",
   "execution_count": 3,
   "metadata": {},
   "outputs": [],
   "source": [
    "imax = 100\n",
    "n0b = prjlib.binned_cl(p.quad.f['EB'].n0bs,mb)\n",
    "rdb = prjlib.binned_cl_rlz(p.quad.f['EB'].rdn0,1,imax,mb)\n",
    "scb = prjlib.binned_cl_rlz(p.quad.f['EB'].cl,1,imax,mb) + n0b[None,:] - rdb\n",
    "ocb = prjlib.binned_cl(p.quad.f['EB'].cl[0],mb)"
   ]
  },
  {
   "cell_type": "code",
   "execution_count": 4,
   "metadata": {},
   "outputs": [
    {
     "name": "stdout",
     "output_type": "stream",
     "text": [
      "chi^2: 4.1 , chi^2 (sim): 11.1 , PTE: 0.98 (RDN0)\n"
     ]
    },
    {
     "data": {
      "image/png": "[encoded data removed]",
      "text/plain": [
       "<Figure size 432x288 with 2 Axes>"
      ]
     },
     "metadata": {
      "needs_background": "light"
     },
     "output_type": "display_data"
    }
   ],
   "source": [
    "st  = ana.PTEs(ocb,scb,comment='RDN0')\n",
    "pl.plot_corr(scb,mb.bc,spc='p2',clab='corr. coeff.')"
   ]
  },
  {
   "cell_type": "code",
   "execution_count": null,
   "metadata": {},
   "outputs": [],
   "source": []
  }
 ],
 "metadata": {
  "kernelspec": {
   "display_name": "py4so",
   "language": "python",
   "name": "py4so"
  },
  "language_info": {
   "codemirror_mode": {
    "name": "ipython",
    "version": 3
   },
   "file_extension": ".py",
   "mimetype": "text/x-python",
   "name": "python",
   "nbconvert_exporter": "python",
   "pygments_lexer": "ipython3",
   "version": "3.7.2"
  }
 },
 "nbformat": 4,
 "nbformat_minor": 4
}
