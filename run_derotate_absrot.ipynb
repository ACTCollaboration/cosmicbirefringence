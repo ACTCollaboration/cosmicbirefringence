{
 "cells": [
  {
   "cell_type": "code",
   "execution_count": 1,
   "metadata": {},
   "outputs": [],
   "source": [
    "import numpy as np, pickle, analysis as ana, prjlib, cmb_map2alm, binning as bins"
   ]
  },
  {
   "cell_type": "code",
   "execution_count": 8,
   "metadata": {},
   "outputs": [
    {
     "name": "stdout",
     "output_type": "stream",
     "text": [
      "NSIDE = 2048\n",
      "ORDERING = RING in fits file\n",
      "INDXSCHM = IMPLICIT\n",
      "NSIDE = 2048\n",
      "ORDERING = RING in fits file\n",
      "INDXSCHM = IMPLICIT\n",
      "0.03988789083339335 0.03964230006002386\n"
     ]
    }
   ],
   "source": [
    "patch = 'boss'\n",
    "ps, fs = prjlib.filename_init(PSA='s14&15_'+patch,doreal='True')\n",
    "pc, fc, rc = prjlib.init(PSA='s14&15_'+patch,doreal='True',dearot='True')\n",
    "# convention of alpha is opposite sign from the paper\n",
    "if patch=='boss': alpha = 0.20*np.pi/180.\n",
    "if patch=='deep56': alpha = -0.12*np.pi/180.\n",
    "#alpha = -0.235*np.pi/180."
   ]
  },
  {
   "cell_type": "code",
   "execution_count": 9,
   "metadata": {},
   "outputs": [
    {
     "name": "stdout",
     "output_type": "stream",
     "text": [
      "load alm 0\n"
     ]
    }
   ],
   "source": [
    "oTlm = pickle.load(open(fs.alm['T'][0],\"rb\"))\n",
    "oElm = pickle.load(open(fs.alm['E'][0],\"rb\"))\n",
    "oBlm = pickle.load(open(fs.alm['B'][0],\"rb\"))\n",
    "rTlm = oTlm\n",
    "rElm, rBlm = ana.ebrotate(alpha,oElm,oBlm)\n",
    "pickle.dump((rTlm),open(fc.alm['T'][0],\"wb\"),protocol=pickle.HIGHEST_PROTOCOL)\n",
    "pickle.dump((rElm),open(fc.alm['E'][0],\"wb\"),protocol=pickle.HIGHEST_PROTOCOL)\n",
    "pickle.dump((rBlm),open(fc.alm['B'][0],\"wb\"),protocol=pickle.HIGHEST_PROTOCOL)\n",
    "cmb_map2alm.cmbalm2cl(fc,rc.w2,0,0,pc.lmax)"
   ]
  },
  {
   "cell_type": "code",
   "execution_count": 10,
   "metadata": {},
   "outputs": [
    {
     "name": "stdout",
     "output_type": "stream",
     "text": [
      ", obs: 0.378 [deg] std 0.224 [deg] PTE 0.13\n",
      ", obs: 0.043 [deg] std 0.082 [deg] PTE 0.37\n"
     ]
    }
   ],
   "source": [
    "prjlib.est_angles(patch,'TB',dearot='True',sn=200,lmin=200,lmax=2048)\n",
    "prjlib.est_angles(patch,'EB',dearot='True',sn=200,lmin=200,lmax=2048)"
   ]
  },
  {
   "cell_type": "code",
   "execution_count": null,
   "metadata": {},
   "outputs": [],
   "source": []
  }
 ],
 "metadata": {
  "kernelspec": {
   "display_name": "py4so",
   "language": "python",
   "name": "py4so"
  },
  "language_info": {
   "codemirror_mode": {
    "name": "ipython",
    "version": 3
   },
   "file_extension": ".py",
   "mimetype": "text/x-python",
   "name": "python",
   "nbconvert_exporter": "python",
   "pygments_lexer": "ipython3",
   "version": "3.7.2"
  }
 },
 "nbformat": 4,
 "nbformat_minor": 4
}
